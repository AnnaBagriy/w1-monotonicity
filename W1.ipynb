{
 "cells": [
  {
   "cell_type": "code",
   "execution_count": 532,
   "id": "c758b8fe",
   "metadata": {},
   "outputs": [],
   "source": [
    "import numpy as np\n",
    "import matplotlib.pyplot as plt\n",
    "import scipy\n",
    "\n",
    "from scipy.stats import wasserstein_distance\n",
    "from scipy.stats import binom\n",
    "from scipy.stats import poisson\n",
    "from scipy.stats import bernoulli"
   ]
  },
  {
   "cell_type": "code",
   "execution_count": 177,
   "id": "d17724b0",
   "metadata": {},
   "outputs": [],
   "source": [
    "def ideal_distribution(N):\n",
    "    \"\"\" Create the ideal soliton distribution. \n",
    "    In practice, this distribution gives not the best results\n",
    "    Cf. https://en.wikipedia.org/wiki/Soliton_distribution\n",
    "    \"\"\"\n",
    "    EPSILON = 10e-8\n",
    "\n",
    "    probabilities = [0, 1 / N]\n",
    "    probabilities += [1 / (k * (k - 1)) for k in range(2, N+1)]\n",
    "    probabilities_sum = sum(probabilities)\n",
    "\n",
    "    assert probabilities_sum >= 1 - EPSILON and probabilities_sum <= 1 + EPSILON, \"The ideal distribution should be standardized\"\n",
    "    return probabilities\n",
    "\n",
    "N = 100\n",
    "idd = ideal_distribution(N)\n",
    "#_=plt.hist(idd, bins='auto', range=(0,1/N))"
   ]
  },
  {
   "cell_type": "code",
   "execution_count": 533,
   "id": "8108a14b",
   "metadata": {},
   "outputs": [],
   "source": [
    "star = 5\n",
    "\n",
    "def poi_pmf(k, k_star=star, lmb=1):\n",
    "    if k == k_star:\n",
    "        #print(\"k_star\")\n",
    "        return 0\n",
    "    elif k == k_star - 1:\n",
    "        #print(\"k_star - 1\")\n",
    "        return poisson.pmf(k,lmb)+poisson.pmf(k_star,lmb)\n",
    "    else:\n",
    "        return poisson.pmf(k,lmb)"
   ]
  },
  {
   "cell_type": "code",
   "execution_count": 549,
   "id": "1542d60d",
   "metadata": {},
   "outputs": [],
   "source": [
    "def get_poisson_pmf_array(n_max, poisson_param):\n",
    "    poisson_arr = []\n",
    "    \n",
    "    for k in range(0,n_max):\n",
    "        poisson_pmf_k = poisson.pmf(k,poisson_param)#poisson_param**k/(np.exp(poisson_param)*np.math.factorial(k))\n",
    "        poisson_arr.append(poisson_pmf_k)\n",
    "        \n",
    "    return poisson_arr\n",
    "\n",
    "def get_binom_pmf_array(n, p=0):\n",
    "    if p == 0:\n",
    "        p = 1/n\n",
    "        \n",
    "    binom_arr = []\n",
    "    \n",
    "    for k in range(0,n):\n",
    "        binom_pmf_k = binom.pmf(k, n, p)\n",
    "        binom_arr.append(binom_pmf_k)\n",
    "        \n",
    "    return binom_arr\n",
    "\n",
    "def binom_func(j,k,n):\n",
    "    return scipy.special.binom(j,k) * (1/n)**k * (1-1/n)**(j-k)\n",
    "\n",
    "def pmf_of_sum(n, k):\n",
    "    if n == 1:\n",
    "        return poi_pmf(k)\n",
    "    \n",
    "    return sum(pmf_of_sum(n-1,i)*poi_pmf(k-i) for i in range(0, k))\n",
    "\n",
    "def get_thinning_pmf_array(n, rv=\"\"):\n",
    "    thinning_arr = []\n",
    "    \n",
    "    for k in range(0,n):\n",
    "        thinning_pmf_k = pmf_of_sum(n, k)\n",
    "        thinning_arr.append(thinning_pmf_k)\n",
    "        \n",
    "    return thinning_arr\n",
    "\n",
    "def display_wasserstein_distance_info(w_range, n_range, text=\"\"):\n",
    "\n",
    "    print(f\"W_1({text},Poisson) is monotonically decreasing: {is_monot_decreasing(w_range)}\")\n",
    "    print(f\"W_1({text},Poisson) is monotonically increasing: {is_monot_increasing(w_range)}\")\n",
    "    print()\n",
    "    \n",
    "    plt.plot(n_range, w_range, c=\"black\")\n",
    "    plt.title(f\"W_1({text},Poisson)\")\n",
    "    plt.show()\n",
    "    \n",
    "def plot_pmf(x, y, title=\"\"):\n",
    "    plt.plot(x, y, 'ro')\n",
    "    plt.title(title)\n",
    "    plt.show()\n",
    "    \n",
    "def get_relative_entropy(p1, p2=[]):\n",
    "    if np.size(p2) == 0:\n",
    "        return scipy.stats.entropy(p1)\n",
    "    \n",
    "    return scipy.stats.entropy(p1, p2)\n",
    "\n",
    "def is_monot_increasing(arr):\n",
    "    return all(float(fst) <= float(snd) for fst, snd in zip(arr, arr[1:]))\n",
    "\n",
    "def is_monot_decreasing(arr):\n",
    "    return all(float(fst) >= float(snd) for fst, snd in zip(arr, arr[1:]))"
   ]
  },
  {
   "cell_type": "code",
   "execution_count": 550,
   "id": "7eeeed00",
   "metadata": {},
   "outputs": [],
   "source": [
    "uniform_const = \"Uniform\"\n",
    "soliton_const = \"Soliton\"\n",
    "geometric_const = \"Geometric\"\n",
    "binomial_const = \"Binomial\"\n",
    "poisson_one_const = \"Poisson(1)\"\n",
    "poisson_onehalf_const = \"Poisson(1/2)\"\n",
    "\n",
    "poisson_with_hole_const = \"Poisson with a hole in the support\"\n",
    "binomial_with_hole_const = \"Binomial with a hole in the support\"\n",
    "uniform_with_hole_const = \"Uniform with a hole in the support\"\n",
    "\n",
    "def thinning_pmf(n, k, rv):\n",
    "    \n",
    "    #c = (np.exp(-1/n)*(1/n)**k)/np.math.factorial(k) #with n=1, Y\\sim Poisson(1). Does not make sense since we are interested in increasing n\n",
    "    \n",
    "    if rv == poisson_one_const:\n",
    "        c = poisson.pmf(k,1)#1/(np.exp(1)*np.math.factorial(k)) #with Y_i\\sim Poisson(1), i=1,...,n\n",
    "        #print(c)\n",
    "        #print(poisson.pmf(k,1))\n",
    "        #print()\n",
    "    \n",
    "    if rv == poisson_onehalf_const:\n",
    "        c = 0.5**k/(np.exp(0.5)*np.math.factorial(k)) #with Y_i\\sim Poisson(0.5), i=1,...,n\n",
    "    \n",
    "    if rv == geometric_const:\n",
    "        l = 0.5/n\n",
    "        c = 1/(1+l)*(l/(1+l))**k #geometric\n",
    "    \n",
    "    if rv == binomial_const:\n",
    "        c = binom.pmf(k, n, 1/n) #binomial\n",
    "    \n",
    "    if rv == soliton_const:\n",
    "        # soliton distribution (https://en.wikipedia.org/wiki/Soliton_distribution)\n",
    "        if k == 1:\n",
    "            c = 1/n\n",
    "        else:\n",
    "            c = 1/(k*(k-1)) #k should be >0\n",
    "        \n",
    "    if rv == uniform_const:\n",
    "        c = 1/n #uniform\n",
    "    \n",
    "    \n",
    "    k_star = 5\n",
    "    \n",
    "    if rv == uniform_with_hole_const:\n",
    "        if k < k_star:\n",
    "            c = 1/(k_star)/2\n",
    "        elif k == k_star:\n",
    "            c = 0\n",
    "        else:\n",
    "            c = 1/(n-k_star-1)/2\n",
    "                    \n",
    "    if rv == poisson_with_hole_const:\n",
    "        lmb = 1\n",
    "        \n",
    "        if k == k_star:\n",
    "            c = 0\n",
    "        elif k == k_star - 1:\n",
    "            c = poisson.pmf(k,lmb) + poisson.pmf(k_star,lmb)#np.exp(-lmb)*lmb**k/np.math.factorial(k)+np.exp(-lmb)*lmb**k_star/np.math.factorial(k_star)\n",
    "        else:\n",
    "            c = poisson.pmf(k,lmb)#np.exp(-lmb)*lmb**k/np.math.factorial(k)\n",
    "    \n",
    "    if rv == binomial_with_hole_const:\n",
    "        p = 1/n\n",
    "        \n",
    "        if k == k_star:\n",
    "            c = 0\n",
    "        elif k == k_star - 1:\n",
    "            c = binom.pmf(k, n, p) + binom.pmf(k_star, n, p)\n",
    "        else:\n",
    "            c = binom.pmf(k, n, p)\n",
    "        \n",
    "    return c\n",
    "    #print(c)\n",
    "  "
   ]
  },
  {
   "cell_type": "code",
   "execution_count": 554,
   "id": "841563ff",
   "metadata": {
    "scrolled": false
   },
   "outputs": [
    {
     "name": "stdout",
     "output_type": "stream",
     "text": [
      "W_1(Binomial,Poisson) is monotonically decreasing: True\n",
      "W_1(Binomial,Poisson) is monotonically increasing: False\n",
      "\n"
     ]
    },
    {
     "data": {
      "image/png": "[encoded data removed]",
      "text/plain": [
       "<Figure size 432x288 with 1 Axes>"
      ]
     },
     "metadata": {
      "needs_background": "light"
     },
     "output_type": "display_data"
    },
    {
     "name": "stdout",
     "output_type": "stream",
     "text": [
      "thinning pmf sum=0.36787944117144233, n=1\n",
      "thinning pmf sum=0.1353352832366127, n=2\n",
      "thinning pmf sum=0.04978706836786395, n=3\n",
      "thinning pmf sum=0.018315638888734186, n=4\n",
      "thinning pmf sum=0.00673794699908547, n=5\n",
      "thinning pmf sum=0.0024787521766663594, n=6\n",
      "thinning pmf sum=0.0009118819655545166, n=7\n",
      "thinning pmf sum=0.00033546262790251196, n=8\n",
      "thinning pmf sum=0.0001234098040866796, n=9\n",
      "thinning pmf sum=4.539992976248487e-05, n=10\n",
      "H(Binomial|Poisson) is monotonically decreasing: False (should always be true)\n",
      "[0.0, 0.6931471805599453, 1.6094379124341003, 2.772588722239781, 4.174387269895637, 5.786897381366708, 7.579167967396076, 9.525151111816216, 11.604601777542019, 13.801827368655985]\n",
      "\n",
      "H(Binomial) is monotonically increasing: True (should be true only in ULC case)\n",
      "[0.0, 0.0, 0.0, 0.0, 0.0, 0.0, 0.0, 0.0, 0.0, 0.0]\n",
      "\n",
      "H(Binomial)_10=0.0, H(Poisson(1))=1.3048404554454895\n",
      "H(Binomial|Poisson)=13.801827368655985\n"
     ]
    },
    {
     "data": {
      "image/png": "[encoded data removed]",
      "text/plain": [
       "<Figure size 432x288 with 1 Axes>"
      ]
     },
     "metadata": {
      "needs_background": "light"
     },
     "output_type": "display_data"
    },
    {
     "name": "stdout",
     "output_type": "stream",
     "text": [
      "W_1(Thinning(Binomial),Poisson) is monotonically decreasing: False\n",
      "W_1(Thinning(Binomial),Poisson) is monotonically increasing: False\n",
      "\n"
     ]
    },
    {
     "data": {
      "image/png": "[encoded data removed]",
      "text/plain": [
       "<Figure size 432x288 with 1 Axes>"
      ]
     },
     "metadata": {
      "needs_background": "light"
     },
     "output_type": "display_data"
    }
   ],
   "source": [
    "# Init\n",
    "n_min = 1\n",
    "n_max = 10\n",
    "n_step = 1\n",
    "\n",
    "poisson_param = 1\n",
    "\n",
    "n_range = range(n_min,n_max+n_step,n_step)\n",
    "k_range = range(n_min,n_max)\n",
    "\n",
    "poisson_arr = get_poisson_pmf_array(n_max, poisson_param)\n",
    "    \n",
    "#print(f\"poisson pmf sum={sum(poisson_arr)}\")\n",
    "\n",
    "# Law of small numbers\n",
    "w_range = []\n",
    "for n in n_range:\n",
    "    binom_arr = get_binom_pmf_array(n, 1/n)\n",
    "    \n",
    "    #print(f\"binom pmf sum={sum(binom_arr)}, n={n}\")\n",
    "    \n",
    "    w = wasserstein_distance(poisson_arr[:n], binom_arr)\n",
    "    w_range.append(w)\n",
    "    #print(w)\n",
    "    \n",
    "#print(np.size(poisson_arr), np.size(binom_arr))\n",
    "    \n",
    "display_wasserstein_distance_info(w_range, n_range, \"Binomial\")\n",
    "\n",
    "# Law of thin numbers\n",
    "w_range = []\n",
    "\n",
    "entropy = []\n",
    "rel_entropy = []\n",
    "\n",
    "thinning_rv = binomial_const\n",
    "\n",
    "for n in n_range:\n",
    "    thinning_arr = get_thinning_pmf_array(n, thinning_rv)\n",
    "    \n",
    "    print(f\"thinning pmf sum={sum(thinning_arr)}, n={n}\")\n",
    "\n",
    "    w = wasserstein_distance(poisson_arr[:n], thinning_arr)\n",
    "    w_range.append(w)\n",
    "    \n",
    "    rel_entropy.append(get_relative_entropy(thinning_arr, poisson_arr[:n]))\n",
    "    entropy.append(get_relative_entropy(thinning_arr))\n",
    "\n",
    "\n",
    "print(f\"H({thinning_rv}|Poisson) is monotonically decreasing: {is_monot_decreasing(rel_entropy)} (should always be true)\")\n",
    "print(rel_entropy)\n",
    "print()\n",
    "print(f\"H({thinning_rv}) is monotonically increasing: {is_monot_increasing(entropy)} (should be true only in ULC case)\")\n",
    "print(entropy)\n",
    "print()\n",
    "print(f\"H({thinning_rv})_{n_max}={entropy[-1]}, H(Poisson(1))={scipy.stats.entropy(poisson_arr)}\")\n",
    "print(f\"H({thinning_rv}|Poisson)={rel_entropy[-1]}\")\n",
    "\n",
    "plot_pmf(range(0,n), thinning_arr, title=thinning_rv)\n",
    "#print(np.size(poisson_arr), np.size(thinning_arr))\n",
    "\n",
    "    \n",
    "display_wasserstein_distance_info(w_range, n_range, f\"Thinning({thinning_rv})\")\n"
   ]
  },
  {
   "cell_type": "code",
   "execution_count": null,
   "id": "a13b82d8",
   "metadata": {},
   "outputs": [],
   "source": [
    "n_step = 100\n",
    "\n",
    "for n in range(1,10):\n",
    "    sum_index_rv_new = bernoulli.rvs(0.5, size=n_step)\n",
    "    sum_index_new = sum(sum_index_rv_new)\n",
    "    \n",
    "    sum_index = sum_index + sum_index_new\n",
    "    \n",
    "    thinning_arr = bernoulli.rvs(1/sum_index, size=sum_index)\n",
    "    poisson_arr_new = poisson.rvs(mu=poisson_param, size=sum_index_new)\n",
    "\n",
    "    np.append(poisson_arr, poisson_arr_new)\n",
    "    \n",
    "    w = wasserstein_distance(thinning_arr, poisson_arr)\n",
    "    #print(w)"
   ]
  },
  {
   "cell_type": "code",
   "execution_count": null,
   "id": "e048488a",
   "metadata": {},
   "outputs": [],
   "source": [
    "print(wasserstein_distance(np.arange(3), np.arange(3), [1,0,0],[0,0.5,0.5]))"
   ]
  },
  {
   "cell_type": "code",
   "execution_count": null,
   "id": "2b913315",
   "metadata": {},
   "outputs": [],
   "source": [
    "sum_index_rv = bernoulli.rvs(0.5, size=n_initial)\n",
    "sum_index = sum(sum_index_rv)\n",
    "\n",
    "bernoulli_arr = bernoulli.rvs(1/sum_index, size=sum_index)\n",
    "poisson_arr = poisson.rvs(mu=poisson_param, size=sum_index)\n",
    "\n",
    "n_step = 1000\n",
    "\n",
    "for n in range(1,10):\n",
    "\n",
    "    sum_index = sum_index + n_step\n",
    "    \n",
    "    bernoulli_arr = bernoulli.rvs(1/sum_index, size=sum_index)\n",
    "    poisson_arr_new = poisson.rvs(mu=poisson_param, size=n_step)\n",
    "\n",
    "    np.append(poisson_arr, poisson_arr_new)\n",
    "    \n",
    "    w = wasserstein_distance(bernoulli_arr, poisson_arr)\n",
    "    print(w)"
   ]
  },
  {
   "cell_type": "code",
   "execution_count": null,
   "id": "2f94be35",
   "metadata": {},
   "outputs": [],
   "source": [
    "from mpmath import nsum, exp, inf\n",
    "\n",
    "k = 10\n",
    "n = 100\n",
    "\n",
    "#s = nsum(lambda j: np.math.factorial(j+1)*(1-1/n)**(j-k)/np.math.factorial(j-k), [k, inf])"
   ]
  },
  {
   "cell_type": "code",
   "execution_count": null,
   "id": "1458f12c",
   "metadata": {},
   "outputs": [],
   "source": [
    "def thinning_convolution(n,k):\n",
    "    if n == 1:\n",
    "        return thinning_pmf(n,k)\n",
    "    \n",
    "    return sum(thinning_convolution(n-1,i)*poi_pmf(k-i,k_star) for i in range(1, k))"
   ]
  },
  {
   "cell_type": "code",
   "execution_count": 541,
   "id": "074cdce8",
   "metadata": {},
   "outputs": [],
   "source": [
    "k_star = 3\n",
    "\n",
    "def binom_func(j,k,p):\n",
    "    #print(j,k,p)\n",
    "    #print(scipy.special.binom(j,k) * (p**k) * (1-p)**(j-k))\n",
    "    #print()\n",
    "\n",
    "    s = scipy.special.binom(j,k) * (p**k) * (1-p)**(j-k)\n",
    "    return s\n",
    "\n",
    "def pmf_of_sum(n, k):\n",
    "    if n == 1:\n",
    "        return poi_pmf(k)\n",
    "    \n",
    "    return sum(pmf_of_sum(n-1,i)*poi_pmf(k-i,k_star) for i in range(1, k))\n",
    "\n",
    "def thinning_pmf(n, k):\n",
    "    #print(n)\n",
    "    #return sum(pmf_of_sum(n,j) * binom_func(j,k,1/n) for j in range(k, k+10))\n",
    "    #return sum(poisson.pmf(j,n) * binom.pmf(k,j,1/n) for j in range(k, k+300)) # does not work\n",
    "    return sum(binom_func(n,j,0.5) * binom_func(j,k,1/n) for j in range(k, n+1)) # works\n",
    "    #return sum(np.exp(-n)*n**j/np.math.factorial(j) * binom_func(j,k,1/n) for j in range(k, k+100))\n",
    "    \n",
    "def get_thinning_pmf_array(K,n):\n",
    "    thinning_arr = []\n",
    "    \n",
    "    for k in range(0,K):\n",
    "        thinning_pmf_k = thinning_pmf(n,k)\n",
    "        thinning_arr.append(thinning_pmf_k)\n",
    "        \n",
    "    return thinning_arr\n",
    "    "
   ]
  },
  {
   "cell_type": "code",
   "execution_count": 542,
   "id": "03ad3f20",
   "metadata": {
    "scrolled": false
   },
   "outputs": [
    {
     "name": "stdout",
     "output_type": "stream",
     "text": [
      "0.36787944117144233\n",
      "n=1, pmf sum=1.0\n"
     ]
    },
    {
     "data": {
      "image/png": "[encoded data removed]",
      "text/plain": [
       "<Figure size 1152x288 with 1 Axes>"
      ]
     },
     "metadata": {
      "needs_background": "light"
     },
     "output_type": "display_data"
    },
    {
     "name": "stdout",
     "output_type": "stream",
     "text": [
      "0.1353352832366127\n",
      "n=2, pmf sum=1.0\n"
     ]
    },
    {
     "data": {
      "image/png": "[encoded data removed]",
      "text/plain": [
       "<Figure size 1152x288 with 1 Axes>"
      ]
     },
     "metadata": {
      "needs_background": "light"
     },
     "output_type": "display_data"
    },
    {
     "name": "stdout",
     "output_type": "stream",
     "text": [
      "0.049787068367863944\n",
      "n=3, pmf sum=1.0\n"
     ]
    },
    {
     "data": {
      "image/png": "[encoded data removed]",
      "text/plain": [
       "<Figure size 1152x288 with 1 Axes>"
      ]
     },
     "metadata": {
      "needs_background": "light"
     },
     "output_type": "display_data"
    },
    {
     "name": "stdout",
     "output_type": "stream",
     "text": [
      "0.01831563888873418\n",
      "n=4, pmf sum=1.0\n"
     ]
    },
    {
     "data": {
      "image/png": "[encoded data removed]",
      "text/plain": [
       "<Figure size 1152x288 with 1 Axes>"
      ]
     },
     "metadata": {
      "needs_background": "light"
     },
     "output_type": "display_data"
    },
    {
     "name": "stdout",
     "output_type": "stream",
     "text": [
      "0.006737946999085467\n",
      "n=5, pmf sum=1.0000000000000002\n"
     ]
    },
    {
     "data": {
      "image/png": "[encoded data removed]",
      "text/plain": [
       "<Figure size 1152x288 with 1 Axes>"
      ]
     },
     "metadata": {
      "needs_background": "light"
     },
     "output_type": "display_data"
    },
    {
     "name": "stdout",
     "output_type": "stream",
     "text": [
      "0.0024787521766663585\n",
      "n=6, pmf sum=1.0\n"
     ]
    },
    {
     "data": {
      "image/png": "[encoded data removed]",
      "text/plain": [
       "<Figure size 1152x288 with 1 Axes>"
      ]
     },
     "metadata": {
      "needs_background": "light"
     },
     "output_type": "display_data"
    },
    {
     "name": "stdout",
     "output_type": "stream",
     "text": [
      "0.0009118819655545162\n",
      "n=7, pmf sum=1.0000000000000002\n"
     ]
    },
    {
     "data": {
      "image/png": "[encoded data removed]",
      "text/plain": [
       "<Figure size 1152x288 with 1 Axes>"
      ]
     },
     "metadata": {
      "needs_background": "light"
     },
     "output_type": "display_data"
    },
    {
     "name": "stdout",
     "output_type": "stream",
     "text": [
      "0.00033546262790251185\n",
      "n=8, pmf sum=1.0\n"
     ]
    },
    {
     "data": {
      "image/png": "[encoded data removed]",
      "text/plain": [
       "<Figure size 1152x288 with 1 Axes>"
      ]
     },
     "metadata": {
      "needs_background": "light"
     },
     "output_type": "display_data"
    },
    {
     "name": "stdout",
     "output_type": "stream",
     "text": [
      "0.00012340980408667956\n",
      "n=9, pmf sum=0.9999999999999997\n"
     ]
    },
    {
     "data": {
      "image/png": "[encoded data removed]",
      "text/plain": [
       "<Figure size 1152x288 with 1 Axes>"
      ]
     },
     "metadata": {
      "needs_background": "light"
     },
     "output_type": "display_data"
    },
    {
     "name": "stdout",
     "output_type": "stream",
     "text": [
      "H(Binomial|Poisson) is monotonically decreasing: True (should always be true)\n",
      "[0.15342640954906034, 0.02515519236636502, 0.009075487388596877, 0.004708272127753727, 0.0028901502235358766, 0.0019552235360311265, 0.0014107381103548075, 0.0010658422573339233, 0.0008336186467593275]\n",
      "\n",
      "H(Binomial) is monotonically increasing: True (should be true only in ULC case)\n",
      "[0.6931471805599453, 0.8647400965276372, 0.893928506320535, 0.9046418292247472, 0.9102051201901215, 0.9136116620956031, 0.9159095239797632, 0.9175629524918246, 0.9188091138070109]\n",
      "\n",
      "H(Binomial)_10=0.9188091138070109, H(Poisson(1))=0.9276374636055427\n",
      "H(Binomial|Poisson)=0.0008336186467593275\n",
      "\n",
      "[0.03934693401163996, 0.014346934011639957, 0.008791378456084393, 0.006339121511639958, 0.004956934011639944, 0.004069718862463011, 0.0034519333104015134, 0.0029970112205165685, 0.0026480446906769393]\n",
      "\n",
      "W_1(Thinning(...),Poisson) is monotonically decreasing: True\n",
      "W_1(Thinning(...),Poisson) is monotonically increasing: False\n",
      "\n"
     ]
    },
    {
     "data": {
      "image/png": "[encoded data removed]",
      "text/plain": [
       "<Figure size 432x288 with 1 Axes>"
      ]
     },
     "metadata": {
      "needs_background": "light"
     },
     "output_type": "display_data"
    }
   ],
   "source": [
    "from decimal import Decimal\n",
    "\n",
    "K = 10\n",
    "K_range = range(0,K)\n",
    "\n",
    "lmb = 0.5\n",
    "p1 = get_poisson_pmf_array(K, lmb)\n",
    "#print(sum(p1))\n",
    "#plot_pmf(K_range,p1,f\"Poisson({lmb})\")\n",
    "\n",
    "n_max = 10\n",
    "n_step = 1\n",
    "n_range = range(1,n_max,n_step)\n",
    "w_range = []\n",
    "\n",
    "entropy = []\n",
    "rel_entropy = []\n",
    "\n",
    "for n in n_range:\n",
    "    p2 = get_thinning_pmf_array(K, n)\n",
    "    print(poisson.pmf(0,n))\n",
    "    print(f\"n={n}, pmf sum={sum(p2)}\")\n",
    "    #plot_pmf(K_range,p2)\n",
    "    plt.figure(figsize=(16,4))\n",
    "    plt.plot(K_range, p1, 'ro', label='Poisson(lmb)')\n",
    "    plt.plot(K_range, p2, 'bo', label=f'Thinning, n={n}')\n",
    "    plt.legend()\n",
    "    #plt.plot(K_range, list(zip(p1, p2)), 'rbo',  label=['Poisson(lmb)', f'Thinning, n={n}'])\n",
    "    plt.show()\n",
    "\n",
    "    w = wasserstein_distance(p1, p2)\n",
    "    w_range.append(w)\n",
    "    \n",
    "    rel_entropy.append(get_relative_entropy(p2, p1))\n",
    "    entropy.append(get_relative_entropy(p2))\n",
    "\n",
    "#print(p2)\n",
    "#plot_pmf(K_range,p2)\n",
    "    \n",
    "print(f\"H({thinning_rv}|Poisson) is monotonically decreasing: {is_monot_decreasing(rel_entropy)} (should always be true)\")\n",
    "print(rel_entropy)\n",
    "print()\n",
    "print(f\"H({thinning_rv}) is monotonically increasing: {is_monot_increasing(entropy)} (should be true only in ULC case)\")\n",
    "print(entropy)\n",
    "print()\n",
    "print(f\"H({thinning_rv})_{n_max}={entropy[-1]}, H(Poisson(1))={scipy.stats.entropy(p1)}\")\n",
    "print(f\"H({thinning_rv}|Poisson)={rel_entropy[-1]}\")\n",
    "    \n",
    "print()\n",
    "print(w_range)\n",
    "print()\n",
    "display_wasserstein_distance_info(w_range, n_range, f\"Thinning(...)\")\n",
    "\n",
    "#plt.plot(K_range, list(zip(p1, p2)), label=['Poisson(lmb)', f'Thinning, n={n}'])\n",
    "#plt.legend()\n",
    "#plt.show()"
   ]
  },
  {
   "cell_type": "code",
   "execution_count": null,
   "id": "72d90b49",
   "metadata": {},
   "outputs": [],
   "source": []
  },
  {
   "cell_type": "code",
   "execution_count": null,
   "id": "0583f4bf",
   "metadata": {},
   "outputs": [],
   "source": [
    "import numpy as np\n",
    "import matplotlib.pyplot as plt\n",
    "\n",
    "def renyi_thinning(x, alpha=2):\n",
    "    # Generate random variables from a Poisson distribution\n",
    "    n = np.random.poisson(x)\n",
    "\n",
    "    # Calculate the thinning probability\n",
    "    p = 1 / (1 + (alpha*(x**2)))\n",
    "\n",
    "    # Generate a mask for thinning\n",
    "    mask = np.random.uniform(size=n) < p\n",
    "\n",
    "    return np.sum(mask)\n",
    "\n",
    "# Parameters\n",
    "alpha = 0.5\n",
    "num_samples = 10000\n",
    "\n",
    "# Generate samples\n",
    "samples = [renyi_thinning(10, alpha) for _ in range(num_samples)]\n",
    "\n",
    "# Calculate PMF\n",
    "pmf, bins = np.histogram(samples, bins=np.arange(0, max(samples)+2)-0.5, density=True)\n",
    "\n",
    "print(pmf)\n",
    "# Plot PMF\n",
    "plt.bar(bins[:-1], pmf, width=1)\n",
    "plt.xlabel('Number of Thinned Points')\n",
    "plt.ylabel('Probability')\n",
    "plt.title('PMF of Renyi Thinning')\n",
    "plt.show()"
   ]
  },
  {
   "cell_type": "code",
   "execution_count": 372,
   "id": "e7717561",
   "metadata": {},
   "outputs": [
    {
     "name": "stdout",
     "output_type": "stream",
     "text": [
      "[3.02433333e+00 0.00000000e+00 0.00000000e+00 2.93000000e-01\n",
      " 0.00000000e+00 0.00000000e+00 1.50000000e-02 0.00000000e+00\n",
      " 0.00000000e+00 1.00000000e-03]\n"
     ]
    }
   ],
   "source": [
    "def renyi_thinning(x, alpha):\n",
    "    # Generate random variables from a Poisson distribution\n",
    "    n = np.random.poisson(x)\n",
    "\n",
    "    # Calculate the thinning probability\n",
    "    p = 1 / (1 + (alpha*(x**2)))\n",
    "\n",
    "    # Generate a mask for thinning\n",
    "    mask = np.random.uniform(size=n) < p\n",
    "\n",
    "    return np.sum(mask)\n",
    "\n",
    "# Parameters\n",
    "n = 10\n",
    "alpha = 1\n",
    "num_samples = 10000\n",
    "\n",
    "# Generate samples\n",
    "samples = [renyi_thinning(10, alpha) for _ in range(num_samples)]\n",
    "pmf, bins = np.histogram(samples, bins=np.arange(0, max(samples)+2)-0.5, density=True)\n",
    "print(pmf)"
   ]
  },
  {
   "cell_type": "code",
   "execution_count": null,
   "id": "cdd7e730",
   "metadata": {},
   "outputs": [],
   "source": []
  }
 ],
 "metadata": {
  "kernelspec": {
   "display_name": "Python 3 (ipykernel)",
   "language": "python",
   "name": "python3"
  },
  "language_info": {
   "codemirror_mode": {
    "name": "ipython",
    "version": 3
   },
   "file_extension": ".py",
   "mimetype": "text/x-python",
   "name": "python",
   "nbconvert_exporter": "python",
   "pygments_lexer": "ipython3",
   "version": "3.9.7"
  }
 },
 "nbformat": 4,
 "nbformat_minor": 5
}
